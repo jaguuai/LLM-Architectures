{
  "nbformat": 4,
  "nbformat_minor": 0,
  "metadata": {
    "colab": {
      "provenance": []
    },
    "kernelspec": {
      "name": "python3",
      "display_name": "Python 3"
    },
    "language_info": {
      "name": "python"
    }
  },
  "cells": [
    {
      "cell_type": "markdown",
      "source": [
        "Named Entity Recognition (NER)"
      ],
      "metadata": {
        "id": "Hs74iDdi7Tr6"
      }
    },
    {
      "cell_type": "code",
      "source": [
        "import spacy\n",
        "\n",
        "# Load the pre-trained NLP model from spacy\n",
        "nlp = spacy.load('en_core_web_sm')\n",
        "\n",
        "# The sentence for which we want to perform NER\n",
        "sentence = \"Barack Obama was the 44th President of the United States.\"\n",
        "\n",
        "# Process the sentence using the NLP model\n",
        "doc = nlp(sentence)\n",
        "\n",
        "# Print the named entities recognized in the sentence\n",
        "print(\"Named Entities in the sentence:\")\n",
        "for ent in doc.ents:\n",
        "    print(f\"{ent.text}: {ent.label_}\")"
      ],
      "metadata": {
        "colab": {
          "base_uri": "https://localhost:8080/"
        },
        "id": "VqFny9tF7U8m",
        "outputId": "b005b249-4fad-48e2-b500-c2aa5ae66dd7"
      },
      "execution_count": 1,
      "outputs": [
        {
          "output_type": "stream",
          "name": "stdout",
          "text": [
            "Named Entities in the sentence:\n",
            "Barack Obama: PERSON\n",
            "44th: ORDINAL\n",
            "the United States: GPE\n"
          ]
        }
      ]
    },
    {
      "cell_type": "markdown",
      "source": [
        "Language Model"
      ],
      "metadata": {
        "id": "NVWOI1527ZSz"
      }
    },
    {
      "cell_type": "code",
      "source": [
        "import nltk\n",
        "from collections import defaultdict, Counter\n",
        "import random\n",
        "\n",
        "# Download the 'punkt_tab' resource\n",
        "nltk.download('punkt_tab')\n",
        "\n",
        "# Sample text data (corpus)\n",
        "corpus = [\n",
        "    \"I love natural language processing\",\n",
        "    \"I love machine learning\",\n",
        "    \"I enjoy learning new things\",\n",
        "    \"Natural language processing is fascinating\"\n",
        "]\n",
        "\n",
        "# Tokenize the sentences into words\n",
        "tokenized_corpus = [nltk.word_tokenize(sentence.lower()) for sentence in corpus]\n",
        "\n",
        "# Create bigrams from the tokenized corpus\n",
        "bigrams = []\n",
        "for sentence in tokenized_corpus:\n",
        "    bigrams.extend(list(nltk.bigrams(sentence)))\n",
        "\n",
        "# Calculate bigram frequencies\n",
        "bigram_freq = defaultdict(Counter)\n",
        "for w1, w2 in bigrams:\n",
        "    bigram_freq[w1][w2] += 1\n",
        "\n",
        "# Calculate bigram probabilities\n",
        "bigram_prob = defaultdict(dict)\n",
        "for w1 in bigram_freq:\n",
        "    total_count = float(sum(bigram_freq[w1].values()))\n",
        "    for w2 in bigram_freq[w1]:\n",
        "        bigram_prob[w1][w2] = bigram_freq[w1][w2] / total_count\n",
        "\n",
        "# Function to generate text using the bigram model\n",
        "def generate_sentence(start_word, num_words=10):\n",
        "    current_word = start_word\n",
        "    sentence = [current_word]\n",
        "    for _ in range(num_words - 1):\n",
        "        if current_word in bigram_prob:\n",
        "            next_word = random.choices(\n",
        "                list(bigram_prob[current_word].keys()),\n",
        "                list(bigram_prob[current_word].values())\n",
        "            )[0]\n",
        "            sentence.append(next_word)\n",
        "            current_word = next_word\n",
        "        else:\n",
        "            break\n",
        "    return ' '.join(sentence)\n",
        "\n",
        "# Generate a sentence starting with the word \"i\"\n",
        "generated_sentence = generate_sentence(\"i\", num_words=4)\n",
        "print(\"Generated sentence:\", generated_sentence)"
      ],
      "metadata": {
        "colab": {
          "base_uri": "https://localhost:8080/"
        },
        "id": "Rk21iy0y7aaV",
        "outputId": "128bceb6-8d59-4de8-c307-9125f288401a"
      },
      "execution_count": 3,
      "outputs": [
        {
          "output_type": "stream",
          "name": "stderr",
          "text": [
            "[nltk_data] Downloading package punkt_tab to /root/nltk_data...\n"
          ]
        },
        {
          "output_type": "stream",
          "name": "stdout",
          "text": [
            "Generated sentence: i enjoy learning new\n"
          ]
        },
        {
          "output_type": "stream",
          "name": "stderr",
          "text": [
            "[nltk_data]   Unzipping tokenizers/punkt_tab.zip.\n"
          ]
        }
      ]
    },
    {
      "cell_type": "markdown",
      "source": [
        "Transformers"
      ],
      "metadata": {
        "id": "SlYOlWy08QpM"
      }
    },
    {
      "cell_type": "code",
      "source": [
        "import torch\n",
        "import torch.nn as nn\n",
        "import math\n",
        "\n",
        "class TransformerModel(nn.Module):\n",
        "    def __init__(self, input_dim, model_dim, num_heads, num_layers, ffn_dim, max_seq_len, num_classes):\n",
        "        super(TransformerModel, self).__init__()\n",
        "\n",
        "        self.embedding = nn.Embedding(input_dim, model_dim)\n",
        "        self.model_dim = model_dim\n",
        "        self.layers = nn.ModuleList([\n",
        "            TransformerLayer(model_dim, num_heads, ffn_dim)\n",
        "            for _ in range(num_layers)\n",
        "        ])\n",
        "        self.fc_out = nn.Linear(model_dim, num_classes)\n",
        "\n",
        "    def forward(self, x):\n",
        "        seq_len = x.size(1)\n",
        "        positional_encoding = self._generate_positional_encoding(seq_len)\n",
        "        x = self.embedding(x) + positional_encoding\n",
        "        for layer in self.layers:\n",
        "            x = layer(x)\n",
        "        return self.fc_out(x.mean(dim=1))\n",
        "\n",
        "    def _generate_positional_encoding(self, seq_len):\n",
        "        positional_encoding = torch.zeros(seq_len, self.model_dim)\n",
        "        for pos in range(seq_len):\n",
        "            for i in range(0, self.model_dim, 2):\n",
        "                positional_encoding[pos, i] = math.sin(pos / (10000 ** (i / self.model_dim)))\n",
        "                positional_encoding[pos, i + 1] = math.cos(pos / (10000 ** ((i + 1) / self.model_dim)))\n",
        "        return positional_encoding.unsqueeze(0)\n",
        "\n",
        "class TransformerLayer(nn.Module):\n",
        "    def __init__(self, model_dim, num_heads, ffn_dim):\n",
        "        super(TransformerLayer, self).__init__()\n",
        "        self.multihead_attention = nn.MultiheadAttention(embed_dim=model_dim, num_heads=num_heads)\n",
        "        self.norm1 = nn.LayerNorm(model_dim)\n",
        "        self.ffn = nn.Sequential(\n",
        "            nn.Linear(model_dim, ffn_dim),\n",
        "            nn.ReLU(),\n",
        "            nn.Linear(ffn_dim, model_dim)\n",
        "        )\n",
        "        self.norm2 = nn.LayerNorm(model_dim)\n",
        "\n",
        "    def forward(self, x):\n",
        "        attn_output, _ = self.multihead_attention(x, x, x)\n",
        "        x = self.norm1(x + attn_output)\n",
        "        ffn_output = self.ffn(x)\n",
        "        x = self.norm2(x + ffn_output)\n",
        "        return x\n",
        "\n",
        "# Example usage:\n",
        "input_dim = 10000  # Vocabulary size\n",
        "model_dim = 512\n",
        "num_heads = 8\n",
        "num_layers = 6\n",
        "ffn_dim = 2048\n",
        "max_seq_len = 100\n",
        "num_classes = 10\n",
        "\n",
        "# Instantiate the model\n",
        "model = TransformerModel(input_dim, model_dim, num_heads, num_layers, ffn_dim, max_seq_len, num_classes)\n",
        "\n",
        "# Example input (batch_size=32, sequence_length=50)\n",
        "x = torch.randint(0, input_dim, (32, 50))\n",
        "\n",
        "# Forward pass\n",
        "output = model(x)\n",
        "print(\"Output shape:\", output.shape)"
      ],
      "metadata": {
        "colab": {
          "base_uri": "https://localhost:8080/"
        },
        "id": "qzEYjUXI8RIt",
        "outputId": "bbc43d42-c120-4574-c223-1ed60d6a712d"
      },
      "execution_count": 4,
      "outputs": [
        {
          "output_type": "stream",
          "name": "stdout",
          "text": [
            "Output shape: torch.Size([32, 10])\n"
          ]
        }
      ]
    }
  ]
}